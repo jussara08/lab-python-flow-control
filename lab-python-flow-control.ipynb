{
 "cells": [
  {
   "cell_type": "markdown",
   "id": "d3bfc191-8885-42ee-b0a0-bbab867c6f9f",
   "metadata": {
    "tags": []
   },
   "source": [
    "# Lab | Flow Control"
   ]
  },
  {
   "cell_type": "markdown",
   "id": "3851fcd1-cf98-4653-9c89-e003b7ec9400",
   "metadata": {},
   "source": [
    "## Exercise: Managing Customer Orders Optimized\n",
    "\n",
    "In the last lab, you were starting an online store that sells various products. To ensure smooth operations, you developed a program that manages customer orders and inventory.\n",
    "\n",
    "You did so without using flow control. Let's go a step further and improve this code.\n",
    "\n",
    "Follow the steps below to complete the exercise:\n",
    "\n",
    "1. Look at your code from the lab data structures, and improve repeated code with loops.\n",
    "\n",
    "2. Instead of asking the user to input the name of three products that a customer wants to order, do the following:\n",
    "    \n",
    "    a. Prompt the user to enter the name of a product that a customer wants to order.\n",
    "    \n",
    "    b. Add the product name to the \"customer_orders\" set.\n",
    "    \n",
    "    c. Ask the user if they want to add another product (yes/no).\n",
    "    \n",
    "    d. Continue the loop until the user does not want to add another product.\n",
    "\n",
    "3. Instead of updating the inventory by subtracting 1 from the quantity of each product, only do it for  the products that were ordered (those in \"customer_orders\")."
   ]
  },
  {
   "cell_type": "code",
   "execution_count": null,
   "id": "5216e4e4",
   "metadata": {},
   "outputs": [
    {
     "name": "stdout",
     "output_type": "stream",
     "text": [
      "\n",
      "Products Ordered: {'book', 'mug', 'hat'}\n"
     ]
    }
   ],
   "source": [
    "products = [\"t-shirt\", \"mug\", \"hat\", \"book\", \"keychain\"]\n",
    "customer_orders = set()\n",
    "\n",
    "while True:\n",
    "\n",
    "    item = input(\"Enter the name of a product to order: \").strip().lower()\n",
    "    if item in products:\n",
    "        customer_orders.add(item)\n",
    "    else:\n",
    "        print(\"Invalid product. Choose from:\", products)\n",
    "        continue \n",
    "    \n",
    "    another = input(\"Do you want to add another product? (yes/no): \").strip().lower()\n",
    "    if another != (\"yes\"):\n",
    "        break\n",
    "\n",
    "print(\"\\nProducts_Ordered:\", customer_orders) "
   ]
  },
  {
   "cell_type": "code",
   "execution_count": 28,
   "id": "d8038d30",
   "metadata": {},
   "outputs": [
    {
     "name": "stdout",
     "output_type": "stream",
     "text": [
      "Invalid product. Choose from: ['t-shirt', 'mug', 'hat', 'book', 'keychain']\n",
      "\n",
      "Products Ordered: {'book', 'mug', 'hat'}\n",
      "Updated Inventory:\n",
      "t-shirt: 21\n",
      "mug: 33\n",
      "hat: 45\n",
      "book: 33\n",
      "keychain: 54\n",
      "\n",
      "Products Ordered: {'book', 'mug', 'hat'}\n",
      "Updated Inventory:\n",
      "t-shirt: 21\n",
      "mug: 32\n",
      "hat: 45\n",
      "book: 33\n",
      "keychain: 54\n",
      "\n",
      "Products Ordered: {'book', 'mug', 'hat'}\n",
      "Updated Inventory:\n",
      "t-shirt: 21\n",
      "mug: 32\n",
      "hat: 44\n",
      "book: 33\n",
      "keychain: 54\n"
     ]
    }
   ],
   "source": [
    "\n",
    "Products_Ordered: {'book', 'mug', 'hat'}\n",
    "inventory={'t-shirt': 21, 'mug': 33, 'hat': 45, 'book': 34, 'keychain': 54}\n",
    "while True:\n",
    "    item = input(\"Enter the name of a product to order: \").strip().lower()\n",
    "    if item in products:\n",
    "        customer_orders.add(item)\n",
    "        another = input(\"Do you want to add another product? (yes/no): \").strip().lower()\n",
    "        if another != \"yes\":\n",
    "            break\n",
    "    else:\n",
    "        print(\"Invalid product. Choose from:\", products)\n",
    "        for item in customer_orders:\n",
    "    \n",
    "            if inventory.get(item, 0) > 0:\n",
    "                inventory[item] -= 1\n",
    "\n",
    "                print(\"\\nProducts Ordered:\", customer_orders)\n",
    "            print(\"Updated Inventory:\")\n",
    "            for p, qty in inventory.items():\n",
    "                print(f\"{p}: {qty}\")"
   ]
  },
  {
   "cell_type": "code",
   "execution_count": null,
   "id": "e2272ca0",
   "metadata": {},
   "outputs": [],
   "source": []
  }
 ],
 "metadata": {
  "kernelspec": {
   "display_name": "Python 3",
   "language": "python",
   "name": "python3"
  },
  "language_info": {
   "codemirror_mode": {
    "name": "ipython",
    "version": 3
   },
   "file_extension": ".py",
   "mimetype": "text/x-python",
   "name": "python",
   "nbconvert_exporter": "python",
   "pygments_lexer": "ipython3",
   "version": "3.13.5"
  }
 },
 "nbformat": 4,
 "nbformat_minor": 5
}
